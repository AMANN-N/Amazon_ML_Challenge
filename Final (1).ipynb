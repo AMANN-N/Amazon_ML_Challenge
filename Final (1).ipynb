{
 "cells": [
  {
   "cell_type": "code",
   "execution_count": 1,
   "id": "ba536fa8",
   "metadata": {},
   "outputs": [],
   "source": [
    "import pandas as pd\n",
    "import numpy as np\n",
    "from sklearn.model_selection import train_test_split\n",
    "from sklearn.compose import ColumnTransformer\n",
    "from sklearn.preprocessing import StandardScaler\n",
    "from sklearn.pipeline import Pipeline\n",
    "from sklearn.metrics import mean_squared_error\n",
    "from sklearn.linear_model import LinearRegression\n",
    "from sklearn.feature_extraction.text import TfidfVectorizer\n",
    "from sklearn.base import BaseEstimator, TransformerMixin\n",
    "from sklearn.ensemble import RandomForestRegressor\n",
    "from transformers import pipeline\n",
    "from gensim.models import Word2Vec\n",
    "from catboost import CatBoostRegressor"
   ]
  },
  {
   "cell_type": "code",
   "execution_count": 2,
   "id": "85e16c18",
   "metadata": {},
   "outputs": [],
   "source": [
    "train_df = pd.read_csv('cleaned_train.csv')\n",
    "test_df = pd.read_csv('cleaned_test.csv')"
   ]
  },
  {
   "cell_type": "code",
   "execution_count": 3,
   "id": "845a3359",
   "metadata": {
    "scrolled": false
   },
   "outputs": [
    {
     "data": {
      "text/html": [
       "<div>\n",
       "<style scoped>\n",
       "    .dataframe tbody tr th:only-of-type {\n",
       "        vertical-align: middle;\n",
       "    }\n",
       "\n",
       "    .dataframe tbody tr th {\n",
       "        vertical-align: top;\n",
       "    }\n",
       "\n",
       "    .dataframe thead th {\n",
       "        text-align: right;\n",
       "    }\n",
       "</style>\n",
       "<table border=\"1\" class=\"dataframe\">\n",
       "  <thead>\n",
       "    <tr style=\"text-align: right;\">\n",
       "      <th></th>\n",
       "      <th>PRODUCT_TYPE_ID</th>\n",
       "      <th>PRODUCT_LENGTH</th>\n",
       "      <th>text</th>\n",
       "    </tr>\n",
       "  </thead>\n",
       "  <tbody>\n",
       "    <tr>\n",
       "      <th>0</th>\n",
       "      <td>1650</td>\n",
       "      <td>2125.980000</td>\n",
       "      <td>opaque eyelets fading office curtainluxurious ...</td>\n",
       "    </tr>\n",
       "    <tr>\n",
       "      <th>1</th>\n",
       "      <td>2755</td>\n",
       "      <td>393.700000</td>\n",
       "      <td>hedwig spencer 98 marks elastane harry exclusi...</td>\n",
       "    </tr>\n",
       "    <tr>\n",
       "      <th>2</th>\n",
       "      <td>7537</td>\n",
       "      <td>748.031495</td>\n",
       "      <td>pump 12v v compatible aluminum 130db vehicles ...</td>\n",
       "    </tr>\n",
       "    <tr>\n",
       "      <th>3</th>\n",
       "      <td>2996</td>\n",
       "      <td>787.401574</td>\n",
       "      <td>chart fabric lycra ankel may 2aishah pack legg...</td>\n",
       "    </tr>\n",
       "    <tr>\n",
       "      <th>4</th>\n",
       "      <td>5725</td>\n",
       "      <td>950.000000</td>\n",
       "      <td>like 02cm home makes better holder planter all...</td>\n",
       "    </tr>\n",
       "  </tbody>\n",
       "</table>\n",
       "</div>"
      ],
      "text/plain": [
       "   PRODUCT_TYPE_ID  PRODUCT_LENGTH  \\\n",
       "0             1650     2125.980000   \n",
       "1             2755      393.700000   \n",
       "2             7537      748.031495   \n",
       "3             2996      787.401574   \n",
       "4             5725      950.000000   \n",
       "\n",
       "                                                text  \n",
       "0  opaque eyelets fading office curtainluxurious ...  \n",
       "1  hedwig spencer 98 marks elastane harry exclusi...  \n",
       "2  pump 12v v compatible aluminum 130db vehicles ...  \n",
       "3  chart fabric lycra ankel may 2aishah pack legg...  \n",
       "4  like 02cm home makes better holder planter all...  "
      ]
     },
     "execution_count": 3,
     "metadata": {},
     "output_type": "execute_result"
    }
   ],
   "source": [
    "train_df['text']=train_df['text'].astype(str)\n",
    "test_df['text']=test_df['text'].astype(str)\n",
    "train_df = train_df.dropna()\n",
    "train_df.head()"
   ]
  },
  {
   "cell_type": "code",
   "execution_count": 4,
   "id": "5f510d0f",
   "metadata": {},
   "outputs": [],
   "source": [
    "prod_id=test_df['PRODUCT_ID']"
   ]
  },
  {
   "cell_type": "code",
   "execution_count": 5,
   "id": "5e10aa5a",
   "metadata": {},
   "outputs": [
    {
     "data": {
      "text/html": [
       "<div>\n",
       "<style scoped>\n",
       "    .dataframe tbody tr th:only-of-type {\n",
       "        vertical-align: middle;\n",
       "    }\n",
       "\n",
       "    .dataframe tbody tr th {\n",
       "        vertical-align: top;\n",
       "    }\n",
       "\n",
       "    .dataframe thead th {\n",
       "        text-align: right;\n",
       "    }\n",
       "</style>\n",
       "<table border=\"1\" class=\"dataframe\">\n",
       "  <thead>\n",
       "    <tr style=\"text-align: right;\">\n",
       "      <th></th>\n",
       "      <th>PRODUCT_ID</th>\n",
       "      <th>PRODUCT_TYPE_ID</th>\n",
       "      <th>text</th>\n",
       "    </tr>\n",
       "  </thead>\n",
       "  <tbody>\n",
       "    <tr>\n",
       "      <th>0</th>\n",
       "      <td>604373</td>\n",
       "      <td>6142</td>\n",
       "      <td>hliogravure relief traditions d1890 savoirs de...</td>\n",
       "    </tr>\n",
       "    <tr>\n",
       "      <th>1</th>\n",
       "      <td>1729783</td>\n",
       "      <td>1622</td>\n",
       "      <td>fleece low chart hand fabric microfiber medita...</td>\n",
       "    </tr>\n",
       "    <tr>\n",
       "      <th>2</th>\n",
       "      <td>1871949</td>\n",
       "      <td>7540</td>\n",
       "      <td>2018 2020 auto holder nx300 textured fit numbe...</td>\n",
       "    </tr>\n",
       "    <tr>\n",
       "      <th>3</th>\n",
       "      <td>1107571</td>\n",
       "      <td>12442</td>\n",
       "      <td>3mm includes lapel award andgold longtime pin ...</td>\n",
       "    </tr>\n",
       "    <tr>\n",
       "      <th>4</th>\n",
       "      <td>624253</td>\n",
       "      <td>6318</td>\n",
       "      <td>ti89 mathematics visual ti92 illustrated</td>\n",
       "    </tr>\n",
       "  </tbody>\n",
       "</table>\n",
       "</div>"
      ],
      "text/plain": [
       "   PRODUCT_ID  PRODUCT_TYPE_ID  \\\n",
       "0      604373             6142   \n",
       "1     1729783             1622   \n",
       "2     1871949             7540   \n",
       "3     1107571            12442   \n",
       "4      624253             6318   \n",
       "\n",
       "                                                text  \n",
       "0  hliogravure relief traditions d1890 savoirs de...  \n",
       "1  fleece low chart hand fabric microfiber medita...  \n",
       "2  2018 2020 auto holder nx300 textured fit numbe...  \n",
       "3  3mm includes lapel award andgold longtime pin ...  \n",
       "4           ti89 mathematics visual ti92 illustrated  "
      ]
     },
     "execution_count": 5,
     "metadata": {},
     "output_type": "execute_result"
    }
   ],
   "source": [
    "test_df.head()"
   ]
  },
  {
   "cell_type": "code",
   "execution_count": 6,
   "id": "6d192e1b",
   "metadata": {},
   "outputs": [],
   "source": [
    "test_df=test_df.drop('PRODUCT_ID',axis=1)"
   ]
  },
  {
   "cell_type": "code",
   "execution_count": 7,
   "id": "c4adfc0f",
   "metadata": {
    "scrolled": true
   },
   "outputs": [
    {
     "data": {
      "text/html": [
       "<div>\n",
       "<style scoped>\n",
       "    .dataframe tbody tr th:only-of-type {\n",
       "        vertical-align: middle;\n",
       "    }\n",
       "\n",
       "    .dataframe tbody tr th {\n",
       "        vertical-align: top;\n",
       "    }\n",
       "\n",
       "    .dataframe thead th {\n",
       "        text-align: right;\n",
       "    }\n",
       "</style>\n",
       "<table border=\"1\" class=\"dataframe\">\n",
       "  <thead>\n",
       "    <tr style=\"text-align: right;\">\n",
       "      <th></th>\n",
       "      <th>PRODUCT_TYPE_ID</th>\n",
       "      <th>PRODUCT_LENGTH</th>\n",
       "      <th>text</th>\n",
       "    </tr>\n",
       "  </thead>\n",
       "  <tbody>\n",
       "    <tr>\n",
       "      <th>0</th>\n",
       "      <td>1650</td>\n",
       "      <td>2125.980000</td>\n",
       "      <td>opaque eyelets fading office curtainluxurious ...</td>\n",
       "    </tr>\n",
       "    <tr>\n",
       "      <th>1</th>\n",
       "      <td>2755</td>\n",
       "      <td>393.700000</td>\n",
       "      <td>hedwig spencer 98 marks elastane harry exclusi...</td>\n",
       "    </tr>\n",
       "    <tr>\n",
       "      <th>2</th>\n",
       "      <td>7537</td>\n",
       "      <td>748.031495</td>\n",
       "      <td>pump 12v v compatible aluminum 130db vehicles ...</td>\n",
       "    </tr>\n",
       "    <tr>\n",
       "      <th>3</th>\n",
       "      <td>2996</td>\n",
       "      <td>787.401574</td>\n",
       "      <td>chart fabric lycra ankel may 2aishah pack legg...</td>\n",
       "    </tr>\n",
       "    <tr>\n",
       "      <th>4</th>\n",
       "      <td>5725</td>\n",
       "      <td>950.000000</td>\n",
       "      <td>like 02cm home makes better holder planter all...</td>\n",
       "    </tr>\n",
       "  </tbody>\n",
       "</table>\n",
       "</div>"
      ],
      "text/plain": [
       "   PRODUCT_TYPE_ID  PRODUCT_LENGTH  \\\n",
       "0             1650     2125.980000   \n",
       "1             2755      393.700000   \n",
       "2             7537      748.031495   \n",
       "3             2996      787.401574   \n",
       "4             5725      950.000000   \n",
       "\n",
       "                                                text  \n",
       "0  opaque eyelets fading office curtainluxurious ...  \n",
       "1  hedwig spencer 98 marks elastane harry exclusi...  \n",
       "2  pump 12v v compatible aluminum 130db vehicles ...  \n",
       "3  chart fabric lycra ankel may 2aishah pack legg...  \n",
       "4  like 02cm home makes better holder planter all...  "
      ]
     },
     "execution_count": 7,
     "metadata": {},
     "output_type": "execute_result"
    }
   ],
   "source": [
    "train_df.head()"
   ]
  },
  {
   "cell_type": "code",
   "execution_count": 8,
   "id": "472ab25e",
   "metadata": {
    "scrolled": false
   },
   "outputs": [
    {
     "name": "stderr",
     "output_type": "stream",
     "text": [
      "[nltk_data] Downloading package stopwords to C:\\Users\\Antony\n",
      "[nltk_data]     Joseph\\AppData\\Roaming\\nltk_data...\n",
      "[nltk_data]   Package stopwords is already up-to-date!\n"
     ]
    }
   ],
   "source": [
    "import re\n",
    "import nltk\n",
    "from nltk.corpus import stopwords\n",
    "from gensim.utils import simple_preprocess\n",
    "\n",
    "nltk.download('stopwords')\n",
    "\n",
    "stop_words = stopwords.words('english')\n",
    "\n",
    "def preprocess(text):\n",
    "    text = text.lower()\n",
    "    text = re.sub(r'[^\\w\\s]', '', text)\n",
    "    tokens = [token for token in text.split() if token not in stop_words]\n",
    "    return tokens\n",
    "\n",
    "processed_docs_train = train_df['text'].apply(preprocess)\n",
    "#processed_docs_test = test_df['text'].apply(preprocess)"
   ]
  },
  {
   "cell_type": "code",
   "execution_count": 9,
   "id": "9fc37689",
   "metadata": {},
   "outputs": [],
   "source": [
    "processed_docs_test = test_df['text'].apply(preprocess)"
   ]
  },
  {
   "cell_type": "code",
   "execution_count": 10,
   "id": "b92cc68e",
   "metadata": {},
   "outputs": [
    {
     "data": {
      "text/plain": [
       "pandas.core.series.Series"
      ]
     },
     "execution_count": 10,
     "metadata": {},
     "output_type": "execute_result"
    }
   ],
   "source": [
    "type(processed_docs_train)"
   ]
  },
  {
   "cell_type": "code",
   "execution_count": 11,
   "id": "1a5a9b16",
   "metadata": {},
   "outputs": [
    {
     "name": "stdout",
     "output_type": "stream",
     "text": [
      "Time taken: 827.8860096931458 seconds\n"
     ]
    }
   ],
   "source": [
    "import time\n",
    "\n",
    "start_time = time.time()\n",
    "model = Word2Vec(processed_docs_train, vector_size=100, window=5, min_count=1, workers=4)\n",
    "end_time = time.time()\n",
    "time_taken = end_time - start_time\n",
    "\n",
    "print(\"Time taken:\", time_taken, \"seconds\")"
   ]
  },
  {
   "cell_type": "code",
   "execution_count": 12,
   "id": "dca978dc",
   "metadata": {},
   "outputs": [],
   "source": [
    "l = []\n",
    "for sent in processed_docs_train:\n",
    "  string = ' '.join(sent)\n",
    "  l.append(string)\n",
    "train_df['PROCESSED_TITLE'] = l\n",
    "\n",
    "\n",
    "\n",
    "l = []\n",
    "for sent in processed_docs_test:\n",
    "  string = ' '.join(sent)\n",
    "  l.append(string)\n",
    "test_df['PROCESSED_TITLE'] = l"
   ]
  },
  {
   "cell_type": "code",
   "execution_count": 13,
   "id": "01c86be1",
   "metadata": {},
   "outputs": [
    {
     "data": {
      "text/html": [
       "<div>\n",
       "<style scoped>\n",
       "    .dataframe tbody tr th:only-of-type {\n",
       "        vertical-align: middle;\n",
       "    }\n",
       "\n",
       "    .dataframe tbody tr th {\n",
       "        vertical-align: top;\n",
       "    }\n",
       "\n",
       "    .dataframe thead th {\n",
       "        text-align: right;\n",
       "    }\n",
       "</style>\n",
       "<table border=\"1\" class=\"dataframe\">\n",
       "  <thead>\n",
       "    <tr style=\"text-align: right;\">\n",
       "      <th></th>\n",
       "      <th>PRODUCT_TYPE_ID</th>\n",
       "      <th>PRODUCT_LENGTH</th>\n",
       "      <th>text</th>\n",
       "      <th>PROCESSED_TITLE</th>\n",
       "    </tr>\n",
       "  </thead>\n",
       "  <tbody>\n",
       "    <tr>\n",
       "      <th>0</th>\n",
       "      <td>1650</td>\n",
       "      <td>2125.980000</td>\n",
       "      <td>opaque eyelets fading office curtainluxurious ...</td>\n",
       "      <td>opaque eyelets fading office curtainluxurious ...</td>\n",
       "    </tr>\n",
       "    <tr>\n",
       "      <th>1</th>\n",
       "      <td>2755</td>\n",
       "      <td>393.700000</td>\n",
       "      <td>hedwig spencer 98 marks elastane harry exclusi...</td>\n",
       "      <td>hedwig spencer 98 marks elastane harry exclusi...</td>\n",
       "    </tr>\n",
       "    <tr>\n",
       "      <th>2</th>\n",
       "      <td>7537</td>\n",
       "      <td>748.031495</td>\n",
       "      <td>pump 12v v compatible aluminum 130db vehicles ...</td>\n",
       "      <td>pump 12v v compatible aluminum 130db vehicles ...</td>\n",
       "    </tr>\n",
       "    <tr>\n",
       "      <th>3</th>\n",
       "      <td>2996</td>\n",
       "      <td>787.401574</td>\n",
       "      <td>chart fabric lycra ankel may 2aishah pack legg...</td>\n",
       "      <td>chart fabric lycra ankel may 2aishah pack legg...</td>\n",
       "    </tr>\n",
       "    <tr>\n",
       "      <th>4</th>\n",
       "      <td>5725</td>\n",
       "      <td>950.000000</td>\n",
       "      <td>like 02cm home makes better holder planter all...</td>\n",
       "      <td>like 02cm home makes better holder planter all...</td>\n",
       "    </tr>\n",
       "  </tbody>\n",
       "</table>\n",
       "</div>"
      ],
      "text/plain": [
       "   PRODUCT_TYPE_ID  PRODUCT_LENGTH  \\\n",
       "0             1650     2125.980000   \n",
       "1             2755      393.700000   \n",
       "2             7537      748.031495   \n",
       "3             2996      787.401574   \n",
       "4             5725      950.000000   \n",
       "\n",
       "                                                text  \\\n",
       "0  opaque eyelets fading office curtainluxurious ...   \n",
       "1  hedwig spencer 98 marks elastane harry exclusi...   \n",
       "2  pump 12v v compatible aluminum 130db vehicles ...   \n",
       "3  chart fabric lycra ankel may 2aishah pack legg...   \n",
       "4  like 02cm home makes better holder planter all...   \n",
       "\n",
       "                                     PROCESSED_TITLE  \n",
       "0  opaque eyelets fading office curtainluxurious ...  \n",
       "1  hedwig spencer 98 marks elastane harry exclusi...  \n",
       "2  pump 12v v compatible aluminum 130db vehicles ...  \n",
       "3  chart fabric lycra ankel may 2aishah pack legg...  \n",
       "4  like 02cm home makes better holder planter all...  "
      ]
     },
     "execution_count": 13,
     "metadata": {},
     "output_type": "execute_result"
    }
   ],
   "source": [
    "train_df.head()"
   ]
  },
  {
   "cell_type": "code",
   "execution_count": 14,
   "id": "e61441e1",
   "metadata": {},
   "outputs": [
    {
     "data": {
      "text/html": [
       "<div>\n",
       "<style scoped>\n",
       "    .dataframe tbody tr th:only-of-type {\n",
       "        vertical-align: middle;\n",
       "    }\n",
       "\n",
       "    .dataframe tbody tr th {\n",
       "        vertical-align: top;\n",
       "    }\n",
       "\n",
       "    .dataframe thead th {\n",
       "        text-align: right;\n",
       "    }\n",
       "</style>\n",
       "<table border=\"1\" class=\"dataframe\">\n",
       "  <thead>\n",
       "    <tr style=\"text-align: right;\">\n",
       "      <th></th>\n",
       "      <th>PRODUCT_TYPE_ID</th>\n",
       "      <th>text</th>\n",
       "      <th>PROCESSED_TITLE</th>\n",
       "    </tr>\n",
       "  </thead>\n",
       "  <tbody>\n",
       "    <tr>\n",
       "      <th>0</th>\n",
       "      <td>6142</td>\n",
       "      <td>hliogravure relief traditions d1890 savoirs de...</td>\n",
       "      <td>hliogravure relief traditions d1890 savoirs de...</td>\n",
       "    </tr>\n",
       "    <tr>\n",
       "      <th>1</th>\n",
       "      <td>1622</td>\n",
       "      <td>fleece low chart hand fabric microfiber medita...</td>\n",
       "      <td>fleece low chart hand fabric microfiber medita...</td>\n",
       "    </tr>\n",
       "    <tr>\n",
       "      <th>2</th>\n",
       "      <td>7540</td>\n",
       "      <td>2018 2020 auto holder nx300 textured fit numbe...</td>\n",
       "      <td>2018 2020 auto holder nx300 textured fit numbe...</td>\n",
       "    </tr>\n",
       "    <tr>\n",
       "      <th>3</th>\n",
       "      <td>12442</td>\n",
       "      <td>3mm includes lapel award andgold longtime pin ...</td>\n",
       "      <td>3mm includes lapel award andgold longtime pin ...</td>\n",
       "    </tr>\n",
       "    <tr>\n",
       "      <th>4</th>\n",
       "      <td>6318</td>\n",
       "      <td>ti89 mathematics visual ti92 illustrated</td>\n",
       "      <td>ti89 mathematics visual ti92 illustrated</td>\n",
       "    </tr>\n",
       "  </tbody>\n",
       "</table>\n",
       "</div>"
      ],
      "text/plain": [
       "   PRODUCT_TYPE_ID                                               text  \\\n",
       "0             6142  hliogravure relief traditions d1890 savoirs de...   \n",
       "1             1622  fleece low chart hand fabric microfiber medita...   \n",
       "2             7540  2018 2020 auto holder nx300 textured fit numbe...   \n",
       "3            12442  3mm includes lapel award andgold longtime pin ...   \n",
       "4             6318           ti89 mathematics visual ti92 illustrated   \n",
       "\n",
       "                                     PROCESSED_TITLE  \n",
       "0  hliogravure relief traditions d1890 savoirs de...  \n",
       "1  fleece low chart hand fabric microfiber medita...  \n",
       "2  2018 2020 auto holder nx300 textured fit numbe...  \n",
       "3  3mm includes lapel award andgold longtime pin ...  \n",
       "4           ti89 mathematics visual ti92 illustrated  "
      ]
     },
     "execution_count": 14,
     "metadata": {},
     "output_type": "execute_result"
    }
   ],
   "source": [
    "test_df.head()"
   ]
  },
  {
   "cell_type": "code",
   "execution_count": 15,
   "id": "4f69984d",
   "metadata": {},
   "outputs": [],
   "source": [
    "train_df=train_df.drop('text',axis=1)\n",
    "test_df=test_df.drop('text',axis=1)"
   ]
  },
  {
   "cell_type": "code",
   "execution_count": 16,
   "id": "69f4254f",
   "metadata": {},
   "outputs": [],
   "source": [
    "import numpy as np\n",
    "def sentence_embedding(sentence):\n",
    "    words = [word.strip(\",.\") for word in sentence.split()]\n",
    "    #wlist = preprocess(sentence)\n",
    "    vectors = [model.wv[word] for word in words if word in model.wv.key_to_index]\n",
    "    if len(vectors) == 0:\n",
    "         return np.zeros(model.vector_size)\n",
    "    else:\n",
    "         return np.mean(vectors, axis=0)"
   ]
  },
  {
   "cell_type": "code",
   "execution_count": 17,
   "id": "d4cdc1f6",
   "metadata": {},
   "outputs": [],
   "source": [
    "train_df['TITLE_EMBED'] = train_df['PROCESSED_TITLE'].apply(sentence_embedding)\n",
    "test_df['TITLE_EMBED'] = test_df['PROCESSED_TITLE'].apply(sentence_embedding)"
   ]
  },
  {
   "cell_type": "code",
   "execution_count": 18,
   "id": "9d13be46",
   "metadata": {
    "scrolled": true
   },
   "outputs": [
    {
     "data": {
      "text/html": [
       "<div>\n",
       "<style scoped>\n",
       "    .dataframe tbody tr th:only-of-type {\n",
       "        vertical-align: middle;\n",
       "    }\n",
       "\n",
       "    .dataframe tbody tr th {\n",
       "        vertical-align: top;\n",
       "    }\n",
       "\n",
       "    .dataframe thead th {\n",
       "        text-align: right;\n",
       "    }\n",
       "</style>\n",
       "<table border=\"1\" class=\"dataframe\">\n",
       "  <thead>\n",
       "    <tr style=\"text-align: right;\">\n",
       "      <th></th>\n",
       "      <th>PRODUCT_TYPE_ID</th>\n",
       "      <th>PRODUCT_LENGTH</th>\n",
       "      <th>PROCESSED_TITLE</th>\n",
       "      <th>TITLE_EMBED</th>\n",
       "    </tr>\n",
       "  </thead>\n",
       "  <tbody>\n",
       "    <tr>\n",
       "      <th>0</th>\n",
       "      <td>1650</td>\n",
       "      <td>2125.980000</td>\n",
       "      <td>opaque eyelets fading office curtainluxurious ...</td>\n",
       "      <td>[0.3200476, -0.37408897, -0.21521586, 0.453634...</td>\n",
       "    </tr>\n",
       "    <tr>\n",
       "      <th>1</th>\n",
       "      <td>2755</td>\n",
       "      <td>393.700000</td>\n",
       "      <td>hedwig spencer 98 marks elastane harry exclusi...</td>\n",
       "      <td>[0.84529656, -0.47621465, -0.6264052, -1.06366...</td>\n",
       "    </tr>\n",
       "    <tr>\n",
       "      <th>2</th>\n",
       "      <td>7537</td>\n",
       "      <td>748.031495</td>\n",
       "      <td>pump 12v v compatible aluminum 130db vehicles ...</td>\n",
       "      <td>[-0.4407191, 0.4794889, 0.12400802, 0.75253576...</td>\n",
       "    </tr>\n",
       "    <tr>\n",
       "      <th>3</th>\n",
       "      <td>2996</td>\n",
       "      <td>787.401574</td>\n",
       "      <td>chart fabric lycra ankel may 2aishah pack legg...</td>\n",
       "      <td>[-0.093169995, -1.0705742, 0.034363437, 0.0701...</td>\n",
       "    </tr>\n",
       "    <tr>\n",
       "      <th>4</th>\n",
       "      <td>5725</td>\n",
       "      <td>950.000000</td>\n",
       "      <td>like 02cm home makes better holder planter all...</td>\n",
       "      <td>[-0.7195843, -0.39701036, -0.16367403, 0.29022...</td>\n",
       "    </tr>\n",
       "    <tr>\n",
       "      <th>...</th>\n",
       "      <td>...</td>\n",
       "      <td>...</td>\n",
       "      <td>...</td>\n",
       "      <td>...</td>\n",
       "    </tr>\n",
       "    <tr>\n",
       "      <th>95</th>\n",
       "      <td>13121</td>\n",
       "      <td>118.110236</td>\n",
       "      <td>safety safety safe citrus art prolonged mandol...</td>\n",
       "      <td>[-0.6474767, -0.051752068, -0.33241257, -0.326...</td>\n",
       "    </tr>\n",
       "    <tr>\n",
       "      <th>96</th>\n",
       "      <td>5904</td>\n",
       "      <td>1023.622046</td>\n",
       "      <td>pool holder planter hall floor pegs art powder...</td>\n",
       "      <td>[-0.20969716, -0.18236229, -0.22812472, 0.2845...</td>\n",
       "    </tr>\n",
       "    <tr>\n",
       "      <th>97</th>\n",
       "      <td>12064</td>\n",
       "      <td>393.700787</td>\n",
       "      <td>stylish mobile cases non toxic case environmen...</td>\n",
       "      <td>[-0.83922184, -1.2259954, 0.18773763, 0.631459...</td>\n",
       "    </tr>\n",
       "    <tr>\n",
       "      <th>98</th>\n",
       "      <td>2703</td>\n",
       "      <td>472.440944</td>\n",
       "      <td>shoulders regular wear free tees crew comforta...</td>\n",
       "      <td>[-0.2297708, -2.0455234, -0.27429676, -0.30159...</td>\n",
       "    </tr>\n",
       "    <tr>\n",
       "      <th>99</th>\n",
       "      <td>11765</td>\n",
       "      <td>150.000000</td>\n",
       "      <td>tumeric investigation pine experience system c...</td>\n",
       "      <td>[0.24235937, -0.3342094, 0.13783039, -0.769786...</td>\n",
       "    </tr>\n",
       "  </tbody>\n",
       "</table>\n",
       "<p>100 rows × 4 columns</p>\n",
       "</div>"
      ],
      "text/plain": [
       "    PRODUCT_TYPE_ID  PRODUCT_LENGTH  \\\n",
       "0              1650     2125.980000   \n",
       "1              2755      393.700000   \n",
       "2              7537      748.031495   \n",
       "3              2996      787.401574   \n",
       "4              5725      950.000000   \n",
       "..              ...             ...   \n",
       "95            13121      118.110236   \n",
       "96             5904     1023.622046   \n",
       "97            12064      393.700787   \n",
       "98             2703      472.440944   \n",
       "99            11765      150.000000   \n",
       "\n",
       "                                      PROCESSED_TITLE  \\\n",
       "0   opaque eyelets fading office curtainluxurious ...   \n",
       "1   hedwig spencer 98 marks elastane harry exclusi...   \n",
       "2   pump 12v v compatible aluminum 130db vehicles ...   \n",
       "3   chart fabric lycra ankel may 2aishah pack legg...   \n",
       "4   like 02cm home makes better holder planter all...   \n",
       "..                                                ...   \n",
       "95  safety safety safe citrus art prolonged mandol...   \n",
       "96  pool holder planter hall floor pegs art powder...   \n",
       "97  stylish mobile cases non toxic case environmen...   \n",
       "98  shoulders regular wear free tees crew comforta...   \n",
       "99  tumeric investigation pine experience system c...   \n",
       "\n",
       "                                          TITLE_EMBED  \n",
       "0   [0.3200476, -0.37408897, -0.21521586, 0.453634...  \n",
       "1   [0.84529656, -0.47621465, -0.6264052, -1.06366...  \n",
       "2   [-0.4407191, 0.4794889, 0.12400802, 0.75253576...  \n",
       "3   [-0.093169995, -1.0705742, 0.034363437, 0.0701...  \n",
       "4   [-0.7195843, -0.39701036, -0.16367403, 0.29022...  \n",
       "..                                                ...  \n",
       "95  [-0.6474767, -0.051752068, -0.33241257, -0.326...  \n",
       "96  [-0.20969716, -0.18236229, -0.22812472, 0.2845...  \n",
       "97  [-0.83922184, -1.2259954, 0.18773763, 0.631459...  \n",
       "98  [-0.2297708, -2.0455234, -0.27429676, -0.30159...  \n",
       "99  [0.24235937, -0.3342094, 0.13783039, -0.769786...  \n",
       "\n",
       "[100 rows x 4 columns]"
      ]
     },
     "execution_count": 18,
     "metadata": {},
     "output_type": "execute_result"
    }
   ],
   "source": [
    "train_df.head(100)"
   ]
  },
  {
   "cell_type": "code",
   "execution_count": 21,
   "id": "c66736bd",
   "metadata": {},
   "outputs": [],
   "source": [
    "y_train=train_df['PRODUCT_LENGTH'].astype(int)\n",
    "X_train=train_df.drop(columns=['PROCESSED_TITLE','PRODUCT_LENGTH'])"
   ]
  },
  {
   "cell_type": "code",
   "execution_count": 22,
   "id": "46eacd92",
   "metadata": {},
   "outputs": [
    {
     "data": {
      "text/html": [
       "<div>\n",
       "<style scoped>\n",
       "    .dataframe tbody tr th:only-of-type {\n",
       "        vertical-align: middle;\n",
       "    }\n",
       "\n",
       "    .dataframe tbody tr th {\n",
       "        vertical-align: top;\n",
       "    }\n",
       "\n",
       "    .dataframe thead th {\n",
       "        text-align: right;\n",
       "    }\n",
       "</style>\n",
       "<table border=\"1\" class=\"dataframe\">\n",
       "  <thead>\n",
       "    <tr style=\"text-align: right;\">\n",
       "      <th></th>\n",
       "      <th>PRODUCT_TYPE_ID</th>\n",
       "      <th>PROCESSED_TITLE</th>\n",
       "      <th>TITLE_EMBED</th>\n",
       "    </tr>\n",
       "  </thead>\n",
       "  <tbody>\n",
       "    <tr>\n",
       "      <th>0</th>\n",
       "      <td>6142</td>\n",
       "      <td>hliogravure relief traditions d1890 savoirs de...</td>\n",
       "      <td>[0.17557926, 0.54150605, -0.29175466, -0.19448...</td>\n",
       "    </tr>\n",
       "    <tr>\n",
       "      <th>1</th>\n",
       "      <td>1622</td>\n",
       "      <td>fleece low chart hand fabric microfiber medita...</td>\n",
       "      <td>[-0.43800655, -1.3380965, 0.47476885, -0.45230...</td>\n",
       "    </tr>\n",
       "    <tr>\n",
       "      <th>2</th>\n",
       "      <td>7540</td>\n",
       "      <td>2018 2020 auto holder nx300 textured fit numbe...</td>\n",
       "      <td>[0.017787194, 0.3894162, -0.08090764, 1.026442...</td>\n",
       "    </tr>\n",
       "    <tr>\n",
       "      <th>3</th>\n",
       "      <td>12442</td>\n",
       "      <td>3mm includes lapel award andgold longtime pin ...</td>\n",
       "      <td>[-0.39270768, -0.41911897, 0.13909887, 0.61163...</td>\n",
       "    </tr>\n",
       "    <tr>\n",
       "      <th>4</th>\n",
       "      <td>6318</td>\n",
       "      <td>ti89 mathematics visual ti92 illustrated</td>\n",
       "      <td>[0.5423145, 0.8735342, 0.017060176, -0.6309894...</td>\n",
       "    </tr>\n",
       "  </tbody>\n",
       "</table>\n",
       "</div>"
      ],
      "text/plain": [
       "   PRODUCT_TYPE_ID                                    PROCESSED_TITLE  \\\n",
       "0             6142  hliogravure relief traditions d1890 savoirs de...   \n",
       "1             1622  fleece low chart hand fabric microfiber medita...   \n",
       "2             7540  2018 2020 auto holder nx300 textured fit numbe...   \n",
       "3            12442  3mm includes lapel award andgold longtime pin ...   \n",
       "4             6318           ti89 mathematics visual ti92 illustrated   \n",
       "\n",
       "                                         TITLE_EMBED  \n",
       "0  [0.17557926, 0.54150605, -0.29175466, -0.19448...  \n",
       "1  [-0.43800655, -1.3380965, 0.47476885, -0.45230...  \n",
       "2  [0.017787194, 0.3894162, -0.08090764, 1.026442...  \n",
       "3  [-0.39270768, -0.41911897, 0.13909887, 0.61163...  \n",
       "4  [0.5423145, 0.8735342, 0.017060176, -0.6309894...  "
      ]
     },
     "execution_count": 22,
     "metadata": {},
     "output_type": "execute_result"
    }
   ],
   "source": [
    "test_df.head()"
   ]
  },
  {
   "cell_type": "code",
   "execution_count": 23,
   "id": "b17527ff",
   "metadata": {},
   "outputs": [],
   "source": [
    "test_df=test_df.drop('PROCESSED_TITLE',axis=1)"
   ]
  },
  {
   "cell_type": "code",
   "execution_count": 24,
   "id": "1c0004d9",
   "metadata": {},
   "outputs": [],
   "source": [
    "append_func = lambda row: np.append(row['TITLE_EMBED'], row['PRODUCT_TYPE_ID'])\n",
    "\n",
    "# apply the lambda function to the 'numpy_array' column using the apply method\n",
    "X_train['appended_array'] = train_df.apply(append_func, axis=1)\n",
    "test_df['appended_array'] = test_df.apply(append_func, axis=1)"
   ]
  },
  {
   "cell_type": "code",
   "execution_count": 28,
   "id": "a5dba225",
   "metadata": {},
   "outputs": [
    {
     "name": "stdout",
     "output_type": "stream",
     "text": [
      "<class 'pandas.core.frame.DataFrame'>\n",
      "Int64Index: 1184066 entries, 0 to 1184065\n",
      "Data columns (total 3 columns):\n",
      " #   Column           Non-Null Count    Dtype \n",
      "---  ------           --------------    ----- \n",
      " 0   PRODUCT_TYPE_ID  1184066 non-null  int64 \n",
      " 1   TITLE_EMBED      1184066 non-null  object\n",
      " 2   appended_array   1184066 non-null  object\n",
      "dtypes: int64(1), object(2)\n",
      "memory usage: 36.1+ MB\n"
     ]
    }
   ],
   "source": [
    "X_train.info()"
   ]
  },
  {
   "cell_type": "code",
   "execution_count": 29,
   "id": "99f2d350",
   "metadata": {},
   "outputs": [
    {
     "name": "stdout",
     "output_type": "stream",
     "text": [
      "<class 'pandas.core.frame.DataFrame'>\n",
      "RangeIndex: 734736 entries, 0 to 734735\n",
      "Data columns (total 3 columns):\n",
      " #   Column           Non-Null Count   Dtype \n",
      "---  ------           --------------   ----- \n",
      " 0   PRODUCT_TYPE_ID  734736 non-null  int64 \n",
      " 1   TITLE_EMBED      734736 non-null  object\n",
      " 2   appended_array   734736 non-null  object\n",
      "dtypes: int64(1), object(2)\n",
      "memory usage: 16.8+ MB\n"
     ]
    }
   ],
   "source": [
    "test_df.info()"
   ]
  },
  {
   "cell_type": "code",
   "execution_count": 30,
   "id": "4eba1512",
   "metadata": {},
   "outputs": [],
   "source": [
    "X_train=X_train['appended_array'].to_numpy()\n",
    "test_df=test_df['appended_array'].to_numpy()"
   ]
  },
  {
   "cell_type": "code",
   "execution_count": 31,
   "id": "390e374c",
   "metadata": {},
   "outputs": [],
   "source": [
    "X_train=np.stack(X_train)\n",
    "test_df=np.stack(test_df)"
   ]
  },
  {
   "cell_type": "code",
   "execution_count": 32,
   "id": "e90dc919",
   "metadata": {},
   "outputs": [
    {
     "data": {
      "text/plain": [
       "101"
      ]
     },
     "execution_count": 32,
     "metadata": {},
     "output_type": "execute_result"
    }
   ],
   "source": [
    "X_train[0].size"
   ]
  },
  {
   "cell_type": "code",
   "execution_count": 33,
   "id": "0429e66c",
   "metadata": {},
   "outputs": [
    {
     "data": {
      "text/plain": [
       "(734736, 101)"
      ]
     },
     "execution_count": 33,
     "metadata": {},
     "output_type": "execute_result"
    }
   ],
   "source": [
    "test_df.shape"
   ]
  },
  {
   "cell_type": "code",
   "execution_count": 34,
   "id": "0eef5c22",
   "metadata": {},
   "outputs": [
    {
     "data": {
      "text/plain": [
       "734736"
      ]
     },
     "execution_count": 34,
     "metadata": {},
     "output_type": "execute_result"
    }
   ],
   "source": [
    "len(prod_id)"
   ]
  },
  {
   "cell_type": "code",
   "execution_count": 35,
   "id": "40cbbd9e",
   "metadata": {},
   "outputs": [
    {
     "data": {
      "text/plain": [
       "KNeighborsClassifier(n_neighbors=3)"
      ]
     },
     "execution_count": 35,
     "metadata": {},
     "output_type": "execute_result"
    }
   ],
   "source": [
    "from sklearn.neighbors import KNeighborsClassifier \n",
    "knn=KNeighborsClassifier(n_neighbors=3)\n",
    "knn.fit(X_train,y_train)"
   ]
  },
  {
   "cell_type": "code",
   "execution_count": null,
   "id": "ed3ac283",
   "metadata": {},
   "outputs": [],
   "source": [
    "y_pred = knn.predict(test_df)"
   ]
  },
  {
   "cell_type": "code",
   "execution_count": null,
   "id": "42292539",
   "metadata": {},
   "outputs": [],
   "source": [
    "submission_df = pd.DataFrame({'PRODUCT_ID': prod_id, 'PRODUCT_LENGTH': y_pred})"
   ]
  },
  {
   "cell_type": "code",
   "execution_count": null,
   "id": "774dedef",
   "metadata": {},
   "outputs": [],
   "source": [
    "submission_df.set_index('PRODUCT_ID',inplace=True)\n",
    "submission_df.to_csv('sample_submission10.csv')"
   ]
  },
  {
   "cell_type": "code",
   "execution_count": null,
   "id": "384dbe80",
   "metadata": {},
   "outputs": [],
   "source": []
  }
 ],
 "metadata": {
  "kernelspec": {
   "display_name": "Python 3 (ipykernel)",
   "language": "python",
   "name": "python3"
  },
  "language_info": {
   "codemirror_mode": {
    "name": "ipython",
    "version": 3
   },
   "file_extension": ".py",
   "mimetype": "text/x-python",
   "name": "python",
   "nbconvert_exporter": "python",
   "pygments_lexer": "ipython3",
   "version": "3.10.9"
  }
 },
 "nbformat": 4,
 "nbformat_minor": 5
}
